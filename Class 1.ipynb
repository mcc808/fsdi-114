{
 "cells": [
  {
   "cell_type": "code",
   "execution_count": 1,
   "id": "a600f009",
   "metadata": {},
   "outputs": [],
   "source": [
    "def are_anagrams(string_a, string_b):\n",
    "    if len(string_a) != len(string_b):\n",
    "        return False\n",
    "    string_a = string_a.replace(\" \", \"\")\n",
    "    string_b = string_b.replace(\" \", \"\")\n",
    "    string_a = string_a.lower()\n",
    "    string_b = string_b.lower()\n",
    "    dict_a = dict()\n",
    "    dict_b = dict()\n",
    "    for index in range(len(string_a)):\n",
    "        if string_a[index] in dict_a.keys():\n",
    "            dict_a[string_a[index]] += 1\n",
    "        else:\n",
    "            dict_a[string_a[index]] = 1\n",
    "        if string_b[index] in dict_b.keys():\n",
    "            dict_b[string_b[index]] += 1\n",
    "        else:\n",
    "            dict_b[string_b[index]] = 1\n",
    "    return dict_a == dict_b"
   ]
  },
  {
   "cell_type": "code",
   "execution_count": 2,
   "id": "e5b7b3ca",
   "metadata": {},
   "outputs": [
    {
     "data": {
      "text/plain": [
       "True"
      ]
     },
     "execution_count": 2,
     "metadata": {},
     "output_type": "execute_result"
    }
   ],
   "source": [
    "are_anagrams('care', 'race')"
   ]
  },
  {
   "cell_type": "code",
   "execution_count": null,
   "id": "7b9d458b",
   "metadata": {},
   "outputs": [],
   "source": []
  }
 ],
 "metadata": {
  "kernelspec": {
   "display_name": "Python 3 (ipykernel)",
   "language": "python",
   "name": "python3"
  },
  "language_info": {
   "codemirror_mode": {
    "name": "ipython",
    "version": 3
   },
   "file_extension": ".py",
   "mimetype": "text/x-python",
   "name": "python",
   "nbconvert_exporter": "python",
   "pygments_lexer": "ipython3",
   "version": "3.8.10"
  }
 },
 "nbformat": 4,
 "nbformat_minor": 5
}

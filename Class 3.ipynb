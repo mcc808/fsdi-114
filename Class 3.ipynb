{
 "cells": [
  {
   "cell_type": "code",
   "execution_count": 1,
   "id": "754e967c",
   "metadata": {},
   "outputs": [],
   "source": [
    "class Queue:\n",
    "    def __init__(self):\n",
    "        self.items = []\n",
    "    \n",
    "    def enqueue(self, element):\n",
    "        self.items.append(element)\n",
    "        \n",
    "    def dequeue(self):\n",
    "        return self.items.pop(0)\n",
    "    \n",
    "    # nice to have:\n",
    "    \n",
    "    def size(self):\n",
    "        return len(self.items)\n",
    "    \n",
    "    def is_empty(self):\n",
    "        return self.items == []\n",
    "    \n",
    "    def peek(self):\n",
    "        return self.items[len(self.items)-1]\n",
    "    \n",
    "    def __len__(self):\n",
    "        return self.size()"
   ]
  },
  {
   "cell_type": "code",
   "execution_count": 1,
   "id": "9228e052",
   "metadata": {},
   "outputs": [
    {
     "ename": "NameError",
     "evalue": "name 'x' is not defined",
     "output_type": "error",
     "traceback": [
      "\u001b[0;31m---------------------------------------------------------------------------\u001b[0m",
      "\u001b[0;31mNameError\u001b[0m                                 Traceback (most recent call last)",
      "Cell \u001b[0;32mIn[1], line 8\u001b[0m\n\u001b[1;32m      5\u001b[0m     \u001b[38;5;28;01mwhile\u001b[39;00m \u001b[38;5;129;01mnot\u001b[39;00m myqueue\u001b[38;5;241m.\u001b[39mis_empty():\n\u001b[1;32m      6\u001b[0m         \u001b[38;5;28mprint\u001b[39m(myqueue\u001b[38;5;241m.\u001b[39mdequeue())\n\u001b[0;32m----> 8\u001b[0m delay_items (\u001b[43mx\u001b[49m)\n",
      "\u001b[0;31mNameError\u001b[0m: name 'x' is not defined"
     ]
    }
   ],
   "source": [
    "def delay_items(myList):\n",
    "    myqueue = Queue()\n",
    "    for number in myList:\n",
    "        myqueue.enqueue(number)\n",
    "    while not myqueue.is_empty():\n",
    "        print(myqueue.dequeue())\n",
    "        \n",
    "delay_items(x)"
   ]
  },
  {
   "cell_type": "code",
   "execution_count": 1,
   "id": "8654d03f",
   "metadata": {},
   "outputs": [],
   "source": [
    "class Node:\n",
    "    def __init__(self, data):\n",
    "        self.data = data\n",
    "        self.prev = None\n",
    "           \n",
    "class Queue:\n",
    "    def __init__(self):\n",
    "        self.front = None\n",
    "        \n",
    "    def enqueue(self, element):\n",
    "        if self.front != None:\n",
    "            current == self.front\n",
    "            while current.prev:             # while current.prev != None\n",
    "                current = current.prev\n",
    "            current.prev = Node(element)\n",
    "        else:\n",
    "            self.front = Node(element)\n",
    "            \n",
    "    def dequeue(self, element):\n",
    "        if self.front:                      # self.front != None\n",
    "            output = self.front.data\n",
    "            self.front = self.front.prev\n",
    "            return output\n",
    "        return None\n",
    "            \n",
    "        \n",
    "        "
   ]
  },
  {
   "cell_type": "code",
   "execution_count": null,
   "id": "41a44018",
   "metadata": {},
   "outputs": [],
   "source": [
    "class Node:\n",
    "    def __init__(self, data):\n",
    "        self.data = data\n",
    "        self.next = None\n",
    "        \n",
    "class SinglyLinkedList:\n",
    "    def __init__(self):\n",
    "         self.head = None\n",
    "            \n",
    "    def append(self, element):\n",
    "        new_none = None(element)\n",
    "        if self.head:\n",
    "            current = self.head\n",
    "            while current.next:\n",
    "                current = current.next\n",
    "            current.next = new_node\n",
    "        else:\n",
    "            self.head = new_node\n",
    "            \n",
    "    def __str__(self):\n",
    "        output_str = \"[ %s\" % current.data\n",
    "        while current:\n",
    "            current = current.next\n",
    "            if current:\n",
    "                output_str += \", %s\" % current.data\n",
    "        output_str = \"[\"\n",
    "        return output_str\n",
    "        \n",
    "        "
   ]
  }
 ],
 "metadata": {
  "kernelspec": {
   "display_name": "Python 3 (ipykernel)",
   "language": "python",
   "name": "python3"
  },
  "language_info": {
   "codemirror_mode": {
    "name": "ipython",
    "version": 3
   },
   "file_extension": ".py",
   "mimetype": "text/x-python",
   "name": "python",
   "nbconvert_exporter": "python",
   "pygments_lexer": "ipython3",
   "version": "3.8.10"
  }
 },
 "nbformat": 4,
 "nbformat_minor": 5
}
